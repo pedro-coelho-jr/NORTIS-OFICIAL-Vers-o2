{
 "cells": [
  {
   "cell_type": "code",
   "execution_count": 1,
   "metadata": {},
   "outputs": [
    {
     "name": "stdout",
     "output_type": "stream",
     "text": [
      "Defaulting to user installation because normal site-packages is not writeableNote: you may need to restart the kernel to use updated packages.\n",
      "\n",
      "Requirement already satisfied: pandas in c:\\users\\denil\\appdata\\local\\packages\\pythonsoftwarefoundation.python.3.12_qbz5n2kfra8p0\\localcache\\local-packages\\python312\\site-packages (2.2.3)\n",
      "Requirement already satisfied: pyproj in c:\\users\\denil\\appdata\\local\\packages\\pythonsoftwarefoundation.python.3.12_qbz5n2kfra8p0\\localcache\\local-packages\\python312\\site-packages (3.7.0)\n",
      "Requirement already satisfied: openpyxl in c:\\users\\denil\\appdata\\local\\packages\\pythonsoftwarefoundation.python.3.12_qbz5n2kfra8p0\\localcache\\local-packages\\python312\\site-packages (3.1.5)\n",
      "Requirement already satisfied: numpy>=1.26.0 in c:\\users\\denil\\appdata\\local\\packages\\pythonsoftwarefoundation.python.3.12_qbz5n2kfra8p0\\localcache\\local-packages\\python312\\site-packages (from pandas) (2.1.3)\n",
      "Requirement already satisfied: python-dateutil>=2.8.2 in c:\\users\\denil\\appdata\\local\\packages\\pythonsoftwarefoundation.python.3.12_qbz5n2kfra8p0\\localcache\\local-packages\\python312\\site-packages (from pandas) (2.9.0.post0)\n",
      "Requirement already satisfied: pytz>=2020.1 in c:\\users\\denil\\appdata\\local\\packages\\pythonsoftwarefoundation.python.3.12_qbz5n2kfra8p0\\localcache\\local-packages\\python312\\site-packages (from pandas) (2024.2)\n",
      "Requirement already satisfied: tzdata>=2022.7 in c:\\users\\denil\\appdata\\local\\packages\\pythonsoftwarefoundation.python.3.12_qbz5n2kfra8p0\\localcache\\local-packages\\python312\\site-packages (from pandas) (2024.2)\n",
      "Requirement already satisfied: certifi in c:\\users\\denil\\appdata\\local\\packages\\pythonsoftwarefoundation.python.3.12_qbz5n2kfra8p0\\localcache\\local-packages\\python312\\site-packages (from pyproj) (2024.8.30)\n",
      "Requirement already satisfied: et-xmlfile in c:\\users\\denil\\appdata\\local\\packages\\pythonsoftwarefoundation.python.3.12_qbz5n2kfra8p0\\localcache\\local-packages\\python312\\site-packages (from openpyxl) (2.0.0)\n",
      "Requirement already satisfied: six>=1.5 in c:\\users\\denil\\appdata\\local\\packages\\pythonsoftwarefoundation.python.3.12_qbz5n2kfra8p0\\localcache\\local-packages\\python312\\site-packages (from python-dateutil>=2.8.2->pandas) (1.16.0)\n"
     ]
    }
   ],
   "source": [
    "pip install pandas pyproj openpyxl\n"
   ]
  },
  {
   "cell_type": "code",
   "execution_count": 2,
   "metadata": {},
   "outputs": [
    {
     "name": "stdout",
     "output_type": "stream",
     "text": [
      "Arquivo convertido salvo em: converted_files\\converted_Corredor Onibus.xlsx\n",
      "Arquivo convertido salvo em: converted_files\\converted_Ferrovia mdc.xlsx\n",
      "Arquivo convertido salvo em: converted_files\\converted_Linha metro projeto.xlsx\n",
      "Arquivo convertido salvo em: converted_files\\converted_Linha metro.xlsx\n",
      "Arquivo convertido salvo em: converted_files\\converted_Linha trem projeto.xlsx\n",
      "Arquivo convertido salvo em: converted_files\\converted_Linha trem.xlsx\n"
     ]
    }
   ],
   "source": [
    "import pandas as pd\n",
    "import pyproj\n",
    "import os\n",
    "\n",
    "# Configurar o transformador para converter de EPSG:31983 (UTM) para EPSG:4326 (WGS84)\n",
    "proj = pyproj.Transformer.from_crs(\"EPSG:31983\", \"EPSG:4326\", always_xy=True)\n",
    "\n",
    "# Lista de arquivos Excel\n",
    "file_list = [\n",
    "    'Corredor Onibus.xlsx',\n",
    "    'Ferrovia mdc.xlsx',\n",
    "    'Linha metro projeto.xlsx',\n",
    "    'Linha metro.xlsx',\n",
    "    'Linha trem projeto.xlsx',\n",
    "    'Linha trem.xlsx'\n",
    "]\n",
    "\n",
    "# Pasta de saída\n",
    "output_folder = \"converted_files\"\n",
    "os.makedirs(output_folder, exist_ok=True)\n",
    "\n",
    "# Função para converter coordenadas\n",
    "def convert_coordinates(df, lon_col, lat_col):\n",
    "    converted_coords = [proj.transform(x, y) for x, y in zip(df[lon_col], df[lat_col])]\n",
    "    df_converted = pd.DataFrame(converted_coords, columns=[\"Longitude\", \"Latitude\"])\n",
    "    return df_converted\n",
    "\n",
    "# Processar cada arquivo\n",
    "for file in file_list:\n",
    "    # Carregar o arquivo Excel\n",
    "    try:\n",
    "        df = pd.read_excel(file)\n",
    "        \n",
    "        # Certifique-se de que as colunas de Latitude e Longitude estão no arquivo\n",
    "        if 'Longitude' in df.columns and 'Latitude' in df.columns:\n",
    "            # Aplicar a conversão\n",
    "            converted_df = convert_coordinates(df, 'Longitude', 'Latitude')\n",
    "            \n",
    "            # Adicionar colunas convertidas ao DataFrame original\n",
    "            df['Longitude'] = converted_df['Longitude']\n",
    "            df['Latitude'] = converted_df['Latitude']\n",
    "            \n",
    "            # Salvar em um novo arquivo\n",
    "            output_file = os.path.join(output_folder, f\"converted_{os.path.basename(file)}\")\n",
    "            df.to_excel(output_file, index=False)\n",
    "            print(f\"Arquivo convertido salvo em: {output_file}\")\n",
    "        else:\n",
    "            print(f\"Colunas 'Longitude' e 'Latitude' não encontradas no arquivo: {file}\")\n",
    "    except Exception as e:\n",
    "        print(f\"Erro ao processar o arquivo {file}: {e}\")\n"
   ]
  }
 ],
 "metadata": {
  "kernelspec": {
   "display_name": "Python 3",
   "language": "python",
   "name": "python3"
  },
  "language_info": {
   "codemirror_mode": {
    "name": "ipython",
    "version": 3
   },
   "file_extension": ".py",
   "mimetype": "text/x-python",
   "name": "python",
   "nbconvert_exporter": "python",
   "pygments_lexer": "ipython3",
   "version": "3.12.7"
  }
 },
 "nbformat": 4,
 "nbformat_minor": 2
}
