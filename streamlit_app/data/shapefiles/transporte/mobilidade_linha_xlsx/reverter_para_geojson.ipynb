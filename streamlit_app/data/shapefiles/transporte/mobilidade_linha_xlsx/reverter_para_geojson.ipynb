{
 "cells": [
  {
   "cell_type": "code",
   "execution_count": 3,
   "metadata": {},
   "outputs": [
    {
     "name": "stdout",
     "output_type": "stream",
     "text": [
      "Arquivo convertido com sucesso: Corredor Onibus.geojson\n",
      "Arquivo convertido com sucesso: Ferrovia mdc.geojson\n",
      "Arquivo convertido com sucesso: Linha metro projeto.geojson\n",
      "Arquivo convertido com sucesso: Linha metro.geojson\n",
      "Arquivo convertido com sucesso: Linha trem projeto.geojson\n",
      "Arquivo convertido com sucesso: Linha trem.geojson\n"
     ]
    }
   ],
   "source": [
    "import geopandas as gpd\n",
    "import pandas as pd\n",
    "\n",
    "file_list = [\n",
    "    'Corredor Onibus.xlsx',\n",
    "    'Ferrovia mdc.xlsx',\n",
    "    'Linha metro projeto.xlsx',\n",
    "    'Linha metro.xlsx',\n",
    "    'Linha trem projeto.xlsx',\n",
    "    'Linha trem.xlsx'\n",
    "]\n",
    "\n",
    "# Função para converter cada arquivo Excel para GeoJSON\n",
    "def convert_excel_to_geojson(file):\n",
    "    try:\n",
    "        # Lê o arquivo Excel\n",
    "        df = pd.read_excel(file)\n",
    "        \n",
    "        # Verifica se há uma coluna de geometria (em WKT ou coordenadas)\n",
    "        if 'geometry' in df.columns:  # Caso a geometria esteja em WKT\n",
    "            gdf = gpd.GeoDataFrame(df, geometry=gpd.GeoSeries.from_wkt(df['geometry']))\n",
    "        elif {'Latitude', 'Longitude'}.issubset(df.columns):  # Caso as coordenadas estejam separadas\n",
    "            gdf = gpd.GeoDataFrame(\n",
    "                df,\n",
    "                geometry=gpd.points_from_xy(df['Longitude'], df['Latitude'])\n",
    "            )\n",
    "        else:\n",
    "            raise ValueError(f\"O arquivo {file} não contém colunas de geometria ou coordenadas.\")\n",
    "\n",
    "        # Define um CRS (Sistema de Referência Espacial), ajuste se necessário\n",
    "        gdf.set_crs(\"EPSG:4326\", inplace=True)\n",
    "\n",
    "        # Salva como GeoJSON\n",
    "        output_file = file.replace('.xlsx', '.geojson')\n",
    "        gdf.to_file(output_file, driver='GeoJSON')\n",
    "        print(f\"Arquivo convertido com sucesso: {output_file}\")\n",
    "    except Exception as e:\n",
    "        print(f\"Erro ao processar o arquivo {file}: {e}\")\n",
    "\n",
    "# Loop para converter todos os arquivos\n",
    "for file in file_list:\n",
    "    convert_excel_to_geojson(file)\n"
   ]
  }
 ],
 "metadata": {
  "kernelspec": {
   "display_name": "Python 3",
   "language": "python",
   "name": "python3"
  },
  "language_info": {
   "codemirror_mode": {
    "name": "ipython",
    "version": 3
   },
   "file_extension": ".py",
   "mimetype": "text/x-python",
   "name": "python",
   "nbconvert_exporter": "python",
   "pygments_lexer": "ipython3",
   "version": "3.12.8"
  }
 },
 "nbformat": 4,
 "nbformat_minor": 2
}
