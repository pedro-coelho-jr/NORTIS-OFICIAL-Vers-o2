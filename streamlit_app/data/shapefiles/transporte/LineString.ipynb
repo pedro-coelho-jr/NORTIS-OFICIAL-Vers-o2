{
 "cells": [
  {
   "cell_type": "code",
   "execution_count": 2,
   "metadata": {},
   "outputs": [
    {
     "name": "stderr",
     "output_type": "stream",
     "text": [
      "C:\\Users\\Denil\\AppData\\Local\\Temp\\ipykernel_6176\\1353427853.py:30: DeprecationWarning: DataFrameGroupBy.apply operated on the grouping columns. This behavior is deprecated, and in a future version of pandas the grouping columns will be excluded from the operation. Either pass `include_groups=False` to exclude the groupings or explicitly select the grouping columns after groupby to silence this warning.\n",
      "  line_geometries = gdf.groupby(group_col).apply(\n"
     ]
    },
    {
     "name": "stdout",
     "output_type": "stream",
     "text": [
      "Arquivo convertido e salvo em: mobilidade_linha_linestring\\lines_Ferrovia mdc.geojson\n",
      "Arquivo convertido e salvo em: mobilidade_linha_linestring\\lines_Linha metro.geojson\n",
      "Arquivo convertido e salvo em: mobilidade_linha_linestring\\lines_Linha metro projeto.geojson\n"
     ]
    },
    {
     "name": "stderr",
     "output_type": "stream",
     "text": [
      "C:\\Users\\Denil\\AppData\\Local\\Temp\\ipykernel_6176\\1353427853.py:30: DeprecationWarning: DataFrameGroupBy.apply operated on the grouping columns. This behavior is deprecated, and in a future version of pandas the grouping columns will be excluded from the operation. Either pass `include_groups=False` to exclude the groupings or explicitly select the grouping columns after groupby to silence this warning.\n",
      "  line_geometries = gdf.groupby(group_col).apply(\n",
      "C:\\Users\\Denil\\AppData\\Local\\Temp\\ipykernel_6176\\1353427853.py:30: DeprecationWarning: DataFrameGroupBy.apply operated on the grouping columns. This behavior is deprecated, and in a future version of pandas the grouping columns will be excluded from the operation. Either pass `include_groups=False` to exclude the groupings or explicitly select the grouping columns after groupby to silence this warning.\n",
      "  line_geometries = gdf.groupby(group_col).apply(\n"
     ]
    },
    {
     "name": "stdout",
     "output_type": "stream",
     "text": [
      "Arquivo convertido e salvo em: mobilidade_linha_linestring\\lines_Linha trem.geojson\n",
      "Arquivo convertido e salvo em: mobilidade_linha_linestring\\lines_Linha trem projeto.geojson\n"
     ]
    }
   ],
   "source": [
    "import geopandas as gpd\n",
    "from shapely.geometry import LineString\n",
    "import os\n",
    "\n",
    "# Lista de arquivos GeoJSON\n",
    "geojson_files = [\n",
    "    'Ferrovia mdc.geojson',\n",
    "    'Linha metro.geojson',\n",
    "    'Linha metro projeto.geojson',\n",
    "    'Linha trem.geojson',\n",
    "    'Linha trem projeto.geojson',\n",
    "]\n",
    "\n",
    "# Função para converter pontos em linhas\n",
    "def convert_points_to_lines(geojson_path, output_path):\n",
    "    gdf = gpd.read_file(geojson_path)\n",
    "\n",
    "    # Identificar a coluna de agrupamento com base no arquivo\n",
    "    if 'fm_id' in gdf.columns:\n",
    "        group_col = 'fm_id'\n",
    "    elif 'lmt_nome' in gdf.columns:\n",
    "        group_col = 'lmt_nome'\n",
    "    elif 'ltr_nome' in gdf.columns:\n",
    "        group_col = 'ltr_nome'\n",
    "    else:\n",
    "        group_col = None\n",
    "\n",
    "    if group_col:\n",
    "        # Agrupar por grupo e criar uma linha para cada grupo\n",
    "        line_geometries = gdf.groupby(group_col).apply(\n",
    "            lambda group: LineString(zip(group['Longitude'], group['Latitude']))\n",
    "        ).reset_index(name='geometry')\n",
    "        # Criar um novo GeoDataFrame com as linhas\n",
    "        line_gdf = gpd.GeoDataFrame(line_geometries, geometry='geometry', crs=gdf.crs)\n",
    "    else:\n",
    "        # Caso não haja coluna de agrupamento, tratar todos os pontos como uma única linha\n",
    "        line_geom = LineString(zip(gdf['Longitude'], gdf['Latitude']))\n",
    "        line_gdf = gpd.GeoDataFrame({'geometry': [line_geom]}, crs=gdf.crs)\n",
    "\n",
    "    # Salvar o resultado em um novo arquivo GeoJSON\n",
    "    line_gdf.to_file(output_path, driver='GeoJSON')\n",
    "    print(f\"Arquivo convertido e salvo em: {output_path}\")\n",
    "\n",
    "# Diretório onde estão os arquivos de entrada e onde salvar os resultados\n",
    "input_directory = 'mobilidade_linha'\n",
    "output_directory = 'mobilidade_linha_linestring'\n",
    "\n",
    "# Garantir que o diretório de saída exista\n",
    "os.makedirs(output_directory, exist_ok=True)\n",
    "\n",
    "# Processar cada arquivo\n",
    "for file_name in geojson_files:\n",
    "    input_path = os.path.join(input_directory, file_name)\n",
    "    output_path = os.path.join(output_directory, f\"lines_{file_name}\")\n",
    "    convert_points_to_lines(input_path, output_path)\n"
   ]
  }
 ],
 "metadata": {
  "kernelspec": {
   "display_name": "Python 3",
   "language": "python",
   "name": "python3"
  },
  "language_info": {
   "codemirror_mode": {
    "name": "ipython",
    "version": 3
   },
   "file_extension": ".py",
   "mimetype": "text/x-python",
   "name": "python",
   "nbconvert_exporter": "python",
   "pygments_lexer": "ipython3",
   "version": "3.12.8"
  }
 },
 "nbformat": 4,
 "nbformat_minor": 2
}
