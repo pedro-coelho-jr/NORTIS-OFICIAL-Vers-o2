{
 "cells": [
  {
   "cell_type": "code",
   "execution_count": 8,
   "metadata": {},
   "outputs": [],
   "source": [
    "import pandas as pd\n",
    "import glob\n",
    "import os\n",
    "\n",
    "# Padrão para localizar todos os arquivos .csv na pasta atual\n",
    "csv_files = glob.glob(os.path.join(os.getcwd(), \"*.csv\"))\n",
    "\n",
    "# Lista para armazenar os DataFrames carregados\n",
    "dataframes = []\n"
   ]
  },
  {
   "cell_type": "code",
   "execution_count": 9,
   "metadata": {},
   "outputs": [],
   "source": [
    "# Função para verificar e printar linhas problemáticas\n",
    "def check_file_for_errors(file):\n",
    "    with open(file, 'r', encoding='utf-8') as f:\n",
    "        for i, line in enumerate(f):\n",
    "            try:\n",
    "                # Tenta ler uma linha como CSV\n",
    "                pd.read_csv(pd.compat.StringIO(line))\n",
    "            except pd.errors.ParserError:\n",
    "                print(f\"Erro de parsing na linha {i + 1} do arquivo {file}: {line.strip()}\")\n"
   ]
  },
  {
   "cell_type": "code",
   "execution_count": 10,
   "metadata": {},
   "outputs": [],
   "source": [
    "# Verifica cada arquivo individualmente\n",
    "for file in csv_files:\n",
    "    try:\n",
    "        # Primeira tentativa de leitura do arquivo completo\n",
    "        df = pd.read_csv(file)\n",
    "        dataframes.append(df)\n",
    "    except pd.errors.ParserError:\n",
    "        print(f\"Erro de parsing encontrado no arquivo {file}. Verificando linha a linha...\")\n",
    "        # Verifica linha por linha se o arquivo completo falhar\n",
    "        check_file_for_errors(file)\n"
   ]
  },
  {
   "cell_type": "code",
   "execution_count": 11,
   "metadata": {},
   "outputs": [
    {
     "name": "stdout",
     "output_type": "stream",
     "text": [
      "Arquivos .csv unificados com sucesso em 'unificado.csv'\n"
     ]
    }
   ],
   "source": [
    "# Carrega cada arquivo .csv e adiciona à lista de DataFrames\n",
    "for file in csv_files:\n",
    "    try:\n",
    "        df = pd.read_csv(file, on_bad_lines='skip')\n",
    "        dataframes.append(df)\n",
    "    except Exception as e:\n",
    "        print(f\"Erro ao ler o arquivo {file}: {e}\")\n",
    "\n",
    "\n",
    "# Concatena todos os DataFrames da lista em um único DataFrame\n",
    "combined_df = pd.concat(dataframes, ignore_index=True)\n",
    "\n",
    "# Salva o DataFrame combinado em um único arquivo .csv\n",
    "combined_df.to_csv(\"unificado.csv\", index=False)\n",
    "\n",
    "print(\"Arquivos .csv unificados com sucesso em 'unificado.csv'\")"
   ]
  }
 ],
 "metadata": {
  "kernelspec": {
   "display_name": "Python 3",
   "language": "python",
   "name": "python3"
  },
  "language_info": {
   "codemirror_mode": {
    "name": "ipython",
    "version": 3
   },
   "file_extension": ".py",
   "mimetype": "text/x-python",
   "name": "python",
   "nbconvert_exporter": "python",
   "pygments_lexer": "ipython3",
   "version": "3.12.5"
  }
 },
 "nbformat": 4,
 "nbformat_minor": 2
}
