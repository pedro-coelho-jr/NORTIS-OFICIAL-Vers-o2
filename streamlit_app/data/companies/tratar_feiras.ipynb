{
 "cells": [
  {
   "cell_type": "markdown",
   "metadata": {},
   "source": [
    "## Tratar Feiras Livres"
   ]
  },
  {
   "cell_type": "code",
   "execution_count": 4,
   "metadata": {},
   "outputs": [
    {
     "name": "stdout",
     "output_type": "stream",
     "text": [
      "Arquivo GeoJSON salvo em: FEIRAS_LIVRES.geojson\n"
     ]
    }
   ],
   "source": [
    "import geopandas as gpd\n",
    "import os\n",
    "\n",
    "# Caminho do arquivo .gpkg\n",
    "input_gpkg = \"SIRGAS_GPKG_TEMA_ABASTECIMENTO_FEIRAS_LIVRES.gpkg\"\n",
    "\n",
    "# Ler o arquivo .gpkg com GeoPandas\n",
    "gdf = gpd.read_file(input_gpkg)\n",
    "\n",
    "# Exportar para GeoJSON\n",
    "output_geojson = \"FEIRAS_LIVRES.geojson\"\n",
    "gdf.to_file(output_geojson, driver=\"GeoJSON\")\n",
    "\n",
    "print(f\"Arquivo GeoJSON salvo em: {output_geojson}\")\n"
   ]
  },
  {
   "cell_type": "markdown",
   "metadata": {},
   "source": [
    "## Converter crs do arquivo geojson"
   ]
  },
  {
   "cell_type": "code",
   "execution_count": 5,
   "metadata": {},
   "outputs": [],
   "source": [
    "# Função para processar GeoJSONs e salvá-los no formato desejado\n",
    "def processar_geojsons(arquivos_geojson, pasta_saida='dados_processados', crs_destino=4326, formato='GeoJSON'):\n",
    "    # Verificar se a pasta de saída existe, senão, criar\n",
    "    if not os.path.exists(pasta_saida):\n",
    "        os.makedirs(pasta_saida)\n",
    "    \n",
    "    geojson_list = []\n",
    "    \n",
    "    for arquivo in arquivos_geojson:\n",
    "        # Carregar o GeoJSON\n",
    "        gdf = gpd.read_file(arquivo)\n",
    "        \n",
    "        # Verificar se o CRS já está no formato de destino\n",
    "        if gdf.crs.to_epsg() != crs_destino:\n",
    "            # Transformar para coordenadas globais (EPSG:4326) somente se necessário\n",
    "            gdf = gdf.to_crs(epsg=crs_destino)\n",
    "        \n",
    "        # Verificar e limpar geometrias inválidas ou nulas\n",
    "        gdf = gdf[gdf.is_valid].dropna(subset=['geometry'])\n",
    "        \n",
    "        # Nome do arquivo de saída\n",
    "        nome_saida = os.path.join(pasta_saida, os.path.basename(arquivo).replace('.geojson', f'_processado.{formato.lower()}'))\n",
    "        \n",
    "        # Salvar o arquivo no formato desejado\n",
    "        if formato.lower() == 'geojson':\n",
    "            gdf.to_file(nome_saida, driver='GeoJSON')\n",
    "        elif formato.lower() == 'shapefile':\n",
    "            gdf.to_file(nome_saida, driver='ESRI Shapefile')\n",
    "        \n",
    "        # Adicionar ao geojson_list\n",
    "        geojson_list.append((arquivo, gdf))\n",
    "    \n",
    "    return geojson_list"
   ]
  },
  {
   "cell_type": "code",
   "execution_count": 6,
   "metadata": {},
   "outputs": [],
   "source": [
    "# Lista de arquivos GeoJSON\n",
    "arquivos_geojson = [\n",
    "    'FEIRAS_LIVRES.geojson',\n",
    "]\n",
    "\n",
    "# Processar os GeoJSONs e salvá-los\n",
    "geojson_list = processar_geojsons(arquivos_geojson, formato='GeoJSON')"
   ]
  },
  {
   "cell_type": "markdown",
   "metadata": {},
   "source": [
    "## Converter para arquivo .xlsx"
   ]
  },
  {
   "cell_type": "code",
   "execution_count": 7,
   "metadata": {},
   "outputs": [],
   "source": [
    "import pandas as pd\n",
    "\n",
    "# Caminho do arquivo GeoJSON\n",
    "geojson_file = \"FEIRAS_LIVRES.geojson\"\n",
    "\n",
    "# Ler o arquivo GeoJSON com GeoPandas\n",
    "gdf = gpd.read_file(geojson_file)\n",
    "\n",
    "# Extrair coordenadas de latitude e longitude\n",
    "gdf['longitude'] = gdf.geometry.x\n",
    "gdf['latitude'] = gdf.geometry.y\n",
    "\n",
    "# Remover a coluna geometry (opcional)\n",
    "gdf = gdf.drop(columns='geometry')\n",
    "\n",
    "# Converter o GeoDataFrame para um DataFrame do Pandas\n",
    "df = pd.DataFrame(gdf)\n",
    "\n",
    "# Exportar para um arquivo Excel (.xlsx)\n",
    "output_excel = \"Feiras Livres.xlsx\"\n",
    "df.to_excel(output_excel, index=False)"
   ]
  },
  {
   "cell_type": "markdown",
   "metadata": {},
   "source": [
    "## Analisar o arquivo .xlsx"
   ]
  },
  {
   "cell_type": "code",
   "execution_count": 9,
   "metadata": {},
   "outputs": [
    {
     "name": "stdout",
     "output_type": "stream",
     "text": [
      "         eq_nome                            eq_enderec  eq_bairro  eq_cep  \\\n",
      "0       MANDAQUI  RUA GENERAL JOSE ALMEIDA BOTELHO S/N        NaN     NaN   \n",
      "1     SANTA INES                 RUA ANA DE BARROS S/N        NaN     NaN   \n",
      "2  SANTO ANTONIO          PRACA  SALVADOR TOLEZANO S/N        NaN     NaN   \n",
      "3    JOAO PESSOA             RUA RIBEIRAO DO SALTO S/N        NaN     NaN   \n",
      "4        HERISON                       RUA HERISON S/N        NaN     NaN   \n",
      "\n",
      "   eq_horario  eq_telefon  eq_regiao  eq_distrit  eq_subpref   eq_esfera  \\\n",
      "0         NaN         NaN        NaN         NaN         NaN  SEM ESFERA   \n",
      "1         NaN         NaN        NaN         NaN         NaN  SEM ESFERA   \n",
      "2         NaN         NaN        NaN         NaN         NaN  SEM ESFERA   \n",
      "3         NaN         NaN        NaN         NaN         NaN  SEM ESFERA   \n",
      "4         NaN         NaN        NaN         NaN         NaN  SEM ESFERA   \n",
      "\n",
      "       eq_classe   eq_rede   eq_tipo  longitude   latitude  \n",
      "0  FEIRAS_LIVRES  SEM REDE  SEM TIPO -46.632993 -23.470371  \n",
      "1  FEIRAS_LIVRES  SEM REDE  SEM TIPO -46.631521 -23.469350  \n",
      "2  FEIRAS_LIVRES  SEM REDE  SEM TIPO -46.636865 -23.469879  \n",
      "3  FEIRAS_LIVRES  SEM REDE  SEM TIPO -46.650463 -23.479616  \n",
      "4  FEIRAS_LIVRES  SEM REDE  SEM TIPO -46.643746 -23.471913  \n",
      "Colunas: Index(['eq_nome', 'eq_enderec', 'eq_bairro', 'eq_cep', 'eq_horario',\n",
      "       'eq_telefon', 'eq_regiao', 'eq_distrit', 'eq_subpref', 'eq_esfera',\n",
      "       'eq_classe', 'eq_rede', 'eq_tipo', 'longitude', 'latitude'],\n",
      "      dtype='object')\n",
      "\n",
      "Resumo estatístico das colunas numéricas:\n",
      "       eq_bairro  eq_cep  eq_horario  eq_telefon  eq_regiao  eq_distrit  \\\n",
      "count        0.0     0.0         0.0         0.0        0.0         0.0   \n",
      "mean         NaN     NaN         NaN         NaN        NaN         NaN   \n",
      "std          NaN     NaN         NaN         NaN        NaN         NaN   \n",
      "min          NaN     NaN         NaN         NaN        NaN         NaN   \n",
      "25%          NaN     NaN         NaN         NaN        NaN         NaN   \n",
      "50%          NaN     NaN         NaN         NaN        NaN         NaN   \n",
      "75%          NaN     NaN         NaN         NaN        NaN         NaN   \n",
      "max          NaN     NaN         NaN         NaN        NaN         NaN   \n",
      "\n",
      "       eq_subpref   longitude    latitude  \n",
      "count         0.0  945.000000  945.000000  \n",
      "mean          NaN  -46.601995  -23.564427  \n",
      "std           NaN    0.107569    0.072803  \n",
      "min           NaN  -46.803311  -23.877290  \n",
      "25%           NaN  -46.687916  -23.609280  \n",
      "50%           NaN  -46.617905  -23.556415  \n",
      "75%           NaN  -46.514739  -23.507807  \n",
      "max           NaN  -46.367077  -23.397027  \n",
      "\n",
      "Informações gerais:\n",
      "<class 'pandas.core.frame.DataFrame'>\n",
      "RangeIndex: 945 entries, 0 to 944\n",
      "Data columns (total 15 columns):\n",
      " #   Column      Non-Null Count  Dtype  \n",
      "---  ------      --------------  -----  \n",
      " 0   eq_nome     945 non-null    object \n",
      " 1   eq_enderec  945 non-null    object \n",
      " 2   eq_bairro   0 non-null      float64\n",
      " 3   eq_cep      0 non-null      float64\n",
      " 4   eq_horario  0 non-null      float64\n",
      " 5   eq_telefon  0 non-null      float64\n",
      " 6   eq_regiao   0 non-null      float64\n",
      " 7   eq_distrit  0 non-null      float64\n",
      " 8   eq_subpref  0 non-null      float64\n",
      " 9   eq_esfera   945 non-null    object \n",
      " 10  eq_classe   945 non-null    object \n",
      " 11  eq_rede     945 non-null    object \n",
      " 12  eq_tipo     945 non-null    object \n",
      " 13  longitude   945 non-null    float64\n",
      " 14  latitude    945 non-null    float64\n",
      "dtypes: float64(9), object(6)\n",
      "memory usage: 110.9+ KB\n",
      "None\n"
     ]
    }
   ],
   "source": [
    "\n",
    "# Caminho para o arquivo .xlsx\n",
    "excel_file = \"Feiras Livres.xlsx\"\n",
    "\n",
    "# Ler o arquivo Excel\n",
    "df = pd.read_excel(excel_file)\n",
    "\n",
    "# Exibir as primeiras linhas do arquivo (para ter uma visão geral)\n",
    "print(df.head())\n",
    "\n",
    "# Exibir o nome das colunas\n",
    "print(\"Colunas:\", df.columns)\n",
    "\n",
    "# Exibir o resumo estatístico das colunas numéricas\n",
    "print(\"\\nResumo estatístico das colunas numéricas:\")\n",
    "print(df.describe())\n",
    "\n",
    "# Exibir informações gerais sobre o DataFrame\n",
    "print(\"\\nInformações gerais:\")\n",
    "print(df.info())\n"
   ]
  },
  {
   "cell_type": "code",
   "execution_count": 10,
   "metadata": {},
   "outputs": [
    {
     "name": "stdout",
     "output_type": "stream",
     "text": [
      "\n",
      "Contagem de valores únicos por coluna:\n",
      "eq_nome       844\n",
      "eq_enderec    926\n",
      "eq_bairro       0\n",
      "eq_cep          0\n",
      "eq_horario      0\n",
      "eq_telefon      0\n",
      "eq_regiao       0\n",
      "eq_distrit      0\n",
      "eq_subpref      0\n",
      "eq_esfera       1\n",
      "eq_classe       1\n",
      "eq_rede         1\n",
      "eq_tipo         1\n",
      "longitude     936\n",
      "latitude      936\n",
      "dtype: int64\n"
     ]
    }
   ],
   "source": [
    "# Exibir a contagem de valores únicos por coluna\n",
    "print(\"\\nContagem de valores únicos por coluna:\")\n",
    "print(df.nunique())"
   ]
  },
  {
   "cell_type": "code",
   "execution_count": 11,
   "metadata": {},
   "outputs": [
    {
     "name": "stdout",
     "output_type": "stream",
     "text": [
      "Colunas após remover vazias: Index(['eq_nome', 'eq_enderec', 'eq_esfera', 'eq_classe', 'eq_rede', 'eq_tipo',\n",
      "       'longitude', 'latitude'],\n",
      "      dtype='object')\n"
     ]
    }
   ],
   "source": [
    "# Remover colunas que estão completamente vazias\n",
    "df = df.dropna(axis=1, how='all')\n",
    "\n",
    "# Exibir colunas após a remoção\n",
    "print(\"Colunas após remover vazias:\", df.columns)\n",
    "\n",
    "# Se quiser salvar o DataFrame modificado em um novo arquivo Excel\n",
    "df.to_excel(\"Feiras Livres.xlsx\", index=False)"
   ]
  }
 ],
 "metadata": {
  "kernelspec": {
   "display_name": "Python 3",
   "language": "python",
   "name": "python3"
  },
  "language_info": {
   "codemirror_mode": {
    "name": "ipython",
    "version": 3
   },
   "file_extension": ".py",
   "mimetype": "text/x-python",
   "name": "python",
   "nbconvert_exporter": "python",
   "pygments_lexer": "ipython3",
   "version": "3.12.5"
  }
 },
 "nbformat": 4,
 "nbformat_minor": 2
}
