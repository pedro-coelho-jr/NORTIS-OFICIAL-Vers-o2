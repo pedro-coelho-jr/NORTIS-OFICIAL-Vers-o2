{
 "cells": [
  {
   "cell_type": "code",
   "execution_count": 1,
   "metadata": {},
   "outputs": [
    {
     "name": "stdout",
     "output_type": "stream",
     "text": [
      "Arquivos atualizados com CEPs tratados foram salvos com sucesso!\n"
     ]
    }
   ],
   "source": [
    "import pandas as pd\n",
    "import re\n",
    "\n",
    "# Função para tratar CEPs\n",
    "def tratar_cep(cep):\n",
    "    if pd.isna(cep):\n",
    "        return None\n",
    "    # Converter para string, remover todos os caracteres que não são números\n",
    "    cep_str = re.sub(r'\\D', '', str(cep))  # Remove caracteres não numéricos\n",
    "    if \",\" in cep_str:\n",
    "        cep_str = cep_str.split(\",\")[0]  # Considerar o primeiro CEP em caso de múltiplos\n",
    "    return cep_str\n",
    "\n",
    "# Ler os arquivos\n",
    "estabelecimentos_df = pd.read_csv('estabelecimentos_dentro_contorno_atualizado.csv')\n",
    "# Aplicar a normalização de CEPs\n",
    "estabelecimentos_df['CEP'] = estabelecimentos_df['CEP'].apply(tratar_cep)\n",
    "\n",
    "# Salvar os arquivos com os mesmos nomes\n",
    "estabelecimentos_df.to_csv('estabelecimentos_dentro_contorno_atualizado.csv', index=False)\n",
    "\n",
    "print(\"Arquivos atualizados com CEPs tratados foram salvos com sucesso!\")\n"
   ]
  }
 ],
 "metadata": {
  "kernelspec": {
   "display_name": "Python 3",
   "language": "python",
   "name": "python3"
  },
  "language_info": {
   "codemirror_mode": {
    "name": "ipython",
    "version": 3
   },
   "file_extension": ".py",
   "mimetype": "text/x-python",
   "name": "python",
   "nbconvert_exporter": "python",
   "pygments_lexer": "ipython3",
   "version": "3.12.7"
  }
 },
 "nbformat": 4,
 "nbformat_minor": 2
}
